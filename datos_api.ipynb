{
 "cells": [
  {
   "cell_type": "markdown",
   "metadata": {},
   "source": [
    "Decidi descargar los archivos csv manualmente"
   ]
  },
  {
   "cell_type": "code",
   "execution_count": 1,
   "metadata": {},
   "outputs": [
    {
     "name": "stdout",
     "output_type": "stream",
     "text": [
      "http://datosabiertos.enacom.gob.ar/visualizations/32226/-/\n",
      "http://datosabiertos.enacom.gob.ar/visualizations/29883/-/\n",
      "http://datosabiertos.enacom.gob.ar/dataviews/240976/-/\n",
      "http://datosabiertos.enacom.gob.ar/dataviews/240974/-/\n",
      "http://datosabiertos.enacom.gob.ar/visualizations/29881/-/\n",
      "http://datosabiertos.enacom.gob.ar/dataviews/240898/-/\n",
      "No se encontró el enlace para el recurso.\n",
      "http://datosabiertos.enacom.gob.ar/visualizations/31361/-/\n",
      "http://datosabiertos.enacom.gob.ar/dataviews/245546/-/\n",
      "http://datosabiertos.enacom.gob.ar/visualizations/31743/-/\n",
      "http://datosabiertos.enacom.gob.ar/dataviews/240904/-/\n",
      "http://datosabiertos.enacom.gob.ar/dataviews/248812/-/\n",
      "http://datosabiertos.enacom.gob.ar/visualizations/29879/-/\n",
      "http://datosabiertos.enacom.gob.ar/dataviews/252829/-/\n",
      "http://datosabiertos.enacom.gob.ar/dataviews/252830/-/\n",
      "http://datosabiertos.enacom.gob.ar/dataviews/251962/-/\n",
      "http://datosabiertos.enacom.gob.ar/visualizations/29951/-/\n"
     ]
    }
   ],
   "source": [
    "import pandas as pd\n",
    "import numpy as np\n",
    "import requests\n",
    "\n",
    "url =\"http://api.datosabiertos.enacom.gob.ar/api/v2/dashboards/ACCES-A-INTER.json/?auth_key=34IZPQ5PVVRl8Iq8bwrQGsybiEp0CSqV766bEHhC\"\n",
    "\n",
    "# Realizo la solicitud GET a la API\n",
    "response = requests.get(url)\n",
    "\n",
    "# Compruebo el código de estado de la respuesta\n",
    "if response.status_code == 200:\n",
    "    data = response.json()\n",
    "    if 'resources' in data:\n",
    "        for resource in data['resources']:  #itero los datos para obtener el link de cada dashboards\n",
    "            if 'link' in resource:\n",
    "                link = resource['link']\n",
    "                print(link)\n",
    "            else:\n",
    "                print('No se encontró el enlace para el recurso.')\n",
    "else:\n",
    "    print('Error al realizar la solicitud:', response.status_code)\n"
   ]
  },
  {
   "attachments": {},
   "cell_type": "markdown",
   "metadata": {},
   "source": [
    "No se encontro un enlace 7 ya que es un cuadro de texto con una 'Aclaración sobre el cálculo de la velocidad promedio de bajada de Internet fijo en Argentina'"
   ]
  },
  {
   "cell_type": "code",
   "execution_count": 2,
   "metadata": {},
   "outputs": [
    {
     "name": "stdout",
     "output_type": "stream",
     "text": [
      "Archivo CSV descargado exitosamente.\n"
     ]
    }
   ],
   "source": [
    "import requests\n",
    "\n",
    "url = \"http://api.datosabiertos.enacom.gob.ar/api/v2/visualizations/PENET-DE-INTER-FIJO-57760/?auth_key=34IZPQ5PVVRl8Iq8bwrQGsybiEp0CSqV766bEHhC&output=ajson\"\n",
    "\n",
    "# Realizo una solicitud GET al enlace\n",
    "response = requests.get(url)\n",
    "\n",
    "# Verificar el código de respuesta HTTP\n",
    "if response.status_code == 200:  # 200 significa que la petición fue exitosa\n",
    "    # Obtener el contenido del archivo CSV\n",
    "    csv_content = response.content\n",
    "\n",
    "    # Guardar el contenido en un archivo CSV local\n",
    "    with open(\"datos_enacom.csv\", \"wb\") as file:\n",
    "        file.write(csv_content)\n",
    "\n",
    "    print(\"Archivo CSV descargado exitosamente.\")\n",
    "else:\n",
    "    print(\"Error en la petición:\", response.status_code)\n"
   ]
  }
 ],
 "metadata": {
  "kernelspec": {
   "display_name": "PI2",
   "language": "python",
   "name": "python3"
  },
  "language_info": {
   "codemirror_mode": {
    "name": "ipython",
    "version": 3
   },
   "file_extension": ".py",
   "mimetype": "text/x-python",
   "name": "python",
   "nbconvert_exporter": "python",
   "pygments_lexer": "ipython3",
   "version": "3.11.0"
  },
  "orig_nbformat": 4
 },
 "nbformat": 4,
 "nbformat_minor": 2
}
